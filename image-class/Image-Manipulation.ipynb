{
 "cells": [
  {
   "cell_type": "code",
   "execution_count": 1,
   "metadata": {
    "collapsed": true
   },
   "outputs": [],
   "source": [
    "import tensorflow as tf"
   ]
  },
  {
   "cell_type": "code",
   "execution_count": 2,
   "metadata": {
    "collapsed": true
   },
   "outputs": [],
   "source": [
    "src = 'data/train/Type_1/7.jpg'"
   ]
  },
  {
   "cell_type": "code",
   "execution_count": 12,
   "metadata": {
    "collapsed": false
   },
   "outputs": [
    {
     "name": "stdout",
     "output_type": "stream",
     "text": [
      "[array([[[108, 104, 103],\n",
      "        [107, 103, 102],\n",
      "        [107, 103, 102],\n",
      "        ..., \n",
      "        [139, 155, 189],\n",
      "        [138, 154, 188],\n",
      "        [139, 155, 189]],\n",
      "\n",
      "       [[108, 104, 103],\n",
      "        [107, 103, 102],\n",
      "        [107, 103, 102],\n",
      "        ..., \n",
      "        [139, 155, 189],\n",
      "        [138, 154, 188],\n",
      "        [139, 155, 189]],\n",
      "\n",
      "       [[109, 105, 102],\n",
      "        [108, 104, 101],\n",
      "        [107, 103, 100],\n",
      "        ..., \n",
      "        [134, 153, 186],\n",
      "        [132, 151, 184],\n",
      "        [133, 152, 185]],\n",
      "\n",
      "       ..., \n",
      "       [[ 85,  69,  46],\n",
      "        [ 86,  70,  47],\n",
      "        [ 85,  69,  46],\n",
      "        ..., \n",
      "        [126,  99,  69],\n",
      "        [127, 100,  71],\n",
      "        [127, 100,  71]],\n",
      "\n",
      "       [[ 86,  70,  47],\n",
      "        [ 87,  71,  48],\n",
      "        [ 85,  69,  46],\n",
      "        ..., \n",
      "        [127, 100,  70],\n",
      "        [128, 101,  72],\n",
      "        [129, 102,  73]],\n",
      "\n",
      "       [[ 86,  70,  47],\n",
      "        [ 87,  71,  48],\n",
      "        [ 84,  68,  45],\n",
      "        ..., \n",
      "        [128, 101,  71],\n",
      "        [129, 102,  73],\n",
      "        [130, 103,  74]]], dtype=uint8)]\n"
     ]
    }
   ],
   "source": [
    "filename_queue = tf.train.string_input_producer(\n",
    "    tf.train.match_filenames_once(\"./data/train/Type_1/*.jpg\"))\n",
    "\n",
    "#print(filename_queue.shape)\n",
    "\n",
    "image_reader = tf.WholeFileReader()\n",
    "_, image_file = image_reader.read(filename_queue)\n",
    "image = tf.image.decode_jpeg(image_file)\n",
    "\n",
    "init_op = tf.global_variables_initializer()\n",
    "\n",
    "# Start a new session to show example output.\n",
    "with tf.Session() as sess:\n",
    "    # Required to get the filename matching to run.\n",
    "    sess.run(init_op)\n",
    "\n",
    "    # Coordinate the loading of image files.\n",
    "    coord = tf.train.Coordinator()\n",
    "    threads = tf.train.start_queue_runners(coord=coord)\n",
    "\n",
    "    # Get an image tensor and print its value.\n",
    "    image_tensor = sess.run([image])\n",
    "    print(image_tensor)\n",
    "\n",
    "    # Finish off the filename queue coordinator.\n",
    "    coord.request_stop()\n",
    "    coord.join(threads)"
   ]
  },
  {
   "cell_type": "code",
   "execution_count": null,
   "metadata": {
    "collapsed": true
   },
   "outputs": [],
   "source": []
  },
  {
   "cell_type": "code",
   "execution_count": null,
   "metadata": {
    "collapsed": true
   },
   "outputs": [],
   "source": []
  }
 ],
 "metadata": {
  "anaconda-cloud": {},
  "kernelspec": {
   "display_name": "Python [conda env:dlnd]",
   "language": "python",
   "name": "conda-env-dlnd-py"
  },
  "language_info": {
   "codemirror_mode": {
    "name": "ipython",
    "version": 3
   },
   "file_extension": ".py",
   "mimetype": "text/x-python",
   "name": "python",
   "nbconvert_exporter": "python",
   "pygments_lexer": "ipython3",
   "version": "3.6.0"
  }
 },
 "nbformat": 4,
 "nbformat_minor": 1
}
